{
 "cells": [
  {
   "cell_type": "code",
   "execution_count": 16,
   "id": "0f045f35",
   "metadata": {},
   "outputs": [
    {
     "name": "stdout",
     "output_type": "stream",
     "text": [
      "tensor([0.7600, 1.2500, 1.2500, 0.9400])\n"
     ]
    }
   ],
   "source": [
    "import torch\n",
    "\n",
    "inputs = torch.tensor([[0.4, 0.1, 0.8], [0.5, 0.8, 0.6], [0.5, 0.8, 0.6], [0, 0.8, 0.5]])\n",
    "\n",
    "query = inputs[1]\n",
    "\n",
    "attn_scores = torch.empty(inputs.shape[0])\n",
    "for i, x_i in enumerate(inputs):\n",
    "    attn_scores[i] = torch.dot(x_i, query)\n",
    "\n",
    "print(attn_scores)"
   ]
  },
  {
   "cell_type": "code",
   "execution_count": 33,
   "id": "0aa0756b",
   "metadata": {},
   "outputs": [
    {
     "name": "stdout",
     "output_type": "stream",
     "text": [
      "softmax weights: tensor([0.0455, 0.0909, 0.1364, 0.1818, 0.2273, 0.3182])\n",
      "softmax sum: 1.0\n"
     ]
    }
   ],
   "source": [
    "tt = torch.tensor([1, 2, 3, 4, 5, 7]).float()\n",
    "tt_tmp = tt / tt.sum()\n",
    "print(f'softmax weights: {tt_tmp}')\n",
    "print(f'softmax sum: {tt_tmp.sum()}')"
   ]
  },
  {
   "cell_type": "code",
   "execution_count": null,
   "id": "ea968a84",
   "metadata": {},
   "outputs": [
    {
     "name": "stdout",
     "output_type": "stream",
     "text": [
      "softmax weights: tensor([0.0020, 0.0056, 0.0151, 0.0411, 0.1116, 0.8246])\n",
      "softmax sum: 1.0\n",
      "softmax weights: tensor([0.0020, 0.0056, 0.0151, 0.0411, 0.1116, 0.8246])\n",
      "softmax sum: 1.0\n"
     ]
    }
   ],
   "source": [
    "def soft_max(x):\n",
    "    return torch.exp(x) / torch.exp(x).sum(dim=0)\n",
    "\n",
    "bad_soft_max_scores = soft_max(tt)\n",
    "print(f'softmax weights: {bad_soft_max_scores}')\n",
    "print(f'softmax sum: {bad_soft_max_scores.sum()}')\n",
    "\n",
    "soft_max_scores = torch.softmax(tt, dim=0)\n",
    "print(f'softmax weights: {soft_max_scores}')\n",
    "print(f'softmax sum: {soft_max_scores.sum()}')\n"
   ]
  },
  {
   "cell_type": "code",
   "execution_count": null,
   "id": "2a631948",
   "metadata": {},
   "outputs": [
    {
     "name": "stdout",
     "output_type": "stream",
     "text": [
      "tensor([[0.8100, 0.7600, 0.7600, 0.4800],\n",
      "        [0.7600, 1.2500, 1.2500, 0.9400],\n",
      "        [0.7600, 1.2500, 1.2500, 0.9400],\n",
      "        [0.4800, 0.9400, 0.9400, 0.8900]])\n",
      "tensor([[0.2761, 0.2627, 0.2627, 0.1985],\n",
      "        [0.1831, 0.2989, 0.2989, 0.2192],\n",
      "        [0.1831, 0.2989, 0.2989, 0.2192],\n",
      "        [0.1762, 0.2791, 0.2791, 0.2655]])\n"
     ]
    }
   ],
   "source": [
    "def simple_attention_weights(inputs):\n",
    "    attn_weights = inputs @ inputs.T\n",
    "    attn_weights = torch.softmax(attn_weights, dim=-1)\n",
    "\n",
    "    all_context_vecs = attn_weights @ inputs\n",
    "    '''context_score = torch.empty(query.shape)\n",
    "    for i, x_i in enumerate(inputs):\n",
    "        context_score += attn_scores[i]*x_i\n",
    "\n",
    "    print(context_score)'''\n",
    "\n",
    "simple_attention_weights(inputs)"
   ]
  }
 ],
 "metadata": {
  "kernelspec": {
   "display_name": "venv (3.10.12)",
   "language": "python",
   "name": "python3"
  },
  "language_info": {
   "codemirror_mode": {
    "name": "ipython",
    "version": 3
   },
   "file_extension": ".py",
   "mimetype": "text/x-python",
   "name": "python",
   "nbconvert_exporter": "python",
   "pygments_lexer": "ipython3",
   "version": "3.10.12"
  }
 },
 "nbformat": 4,
 "nbformat_minor": 5
}
