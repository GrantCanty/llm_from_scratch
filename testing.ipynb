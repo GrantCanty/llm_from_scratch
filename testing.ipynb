{
 "cells": [
  {
   "cell_type": "code",
   "execution_count": null,
   "id": "359d7006",
   "metadata": {},
   "outputs": [
    {
     "name": "stderr",
     "output_type": "stream",
     "text": [
      "/Users/cheoso/ai_projects/llm_by_scratch/venv/lib/python3.10/site-packages/torch/_subclasses/functional_tensor.py:279: UserWarning: Failed to initialize NumPy: No module named 'numpy' (Triggered internally at /Users/runner/work/pytorch/pytorch/pytorch/torch/csrc/utils/tensor_numpy.cpp:81.)\n",
      "  cpu = _conversion_method_template(device=torch.device(\"cpu\"))\n"
     ]
    }
   ],
   "source": [
    "import torch\n",
    "from torch.utils.data import Dataset, DataLoader\n",
    "import tiktoken\n",
    "\n",
    "test_str: str = \"this is the string that i want to test on to gain a better understanding of how embedding works\"\n",
    "\n",
    "class GPTDatasetV1(Dataset):\n",
    "    def __init__(self, txt, tokenizer, max_length, stride):\n",
    "        self.input_tokens = []\n",
    "        self.target_tokens = []\n",
    "    \n",
    "        tokens = tokenizer.encode(txt)\n",
    "\n",
    "        for i in range(0, len(tokens) - max_length, stride):\n",
    "            input_chunk = tokens[i:i+max_length]\n",
    "            target_chunk = tokens[i+1:i+1+max_length]\n",
    "\n",
    "            self.input_tokens.append(torch.tensor(input_chunk))\n",
    "            self.target_tokens.append(torch.tensor(target_chunk))\n",
    "\n",
    "    def __len__(self):\n",
    "        return len(self.input_tokens)\n",
    "    \n",
    "    def __getitem__(self, idx):\n",
    "        return self.input_tokens[idx], self.target_tokens[idx]\n",
    "\n",
    "def create_dataloader_v1(txt, batch_size=4, max_length=256, stride=128, shuffle=True, drop_last=True, num_workers=0):\n",
    "    tokenizer = tiktoken.get_encoding(\"gpt2\")\n",
    "    dataset = GPTDatasetV1(txt, tokenizer, max_length, stride)\n",
    "    dataloader = DataLoader(\n",
    "        dataset,\n",
    "        batch_size=batch_size,\n",
    "        shuffle=shuffle,\n",
    "        drop_last=drop_last,\n",
    "        num_workers=0\n",
    "    )\n",
    "\n",
    "    return dataloader\n",
    "\n",
    "def embed_text(txt: str, max_length=4, batch_size=8, stride=1):\n",
    "    vocab_size = 50257\n",
    "    output_dim = 256\n",
    "    token_embedding_layer = torch.nn.Embedding(vocab_size, output_dim)\n",
    "\n",
    "    dataloader = create_dataloader_v1(\n",
    "        txt, batch_size=batch_size, max_length=max_length, stride=stride, shuffle=False)\n",
    "    data_iter = iter(dataloader)\n",
    "    inputs, targets = next(data_iter)\n",
    "    #print(\"Token IDs:\\n\", inputs)\n",
    "    #print(\"Target IDs:\\n\", targets)\n",
    "    #print(\"\\nInputs shape:\\n\", inputs.shape)\n",
    "\n",
    "    input_token_embeddings = token_embedding_layer(inputs)\n",
    "    target_token_embeddings = token_embedding_layer(targets)\n",
    "\n",
    "    #print(input_token_embeddings)\n",
    "\n",
    "    context_length = max_length\n",
    "\n",
    "    pos_embedding_layer = torch.nn.Embedding(context_length, output_dim)\n",
    "    pos_embeddings = pos_embedding_layer(torch.arange(context_length))\n",
    "\n",
    "    input_embeddings = pos_embeddings + input_token_embeddings\n",
    "    target_embeddings = pos_embeddings + target_token_embeddings\n",
    "\n",
    "    return input_embeddings, target_embeddings"
   ]
  }
 ],
 "metadata": {
  "kernelspec": {
   "display_name": "venv (3.10.12)",
   "language": "python",
   "name": "python3"
  },
  "language_info": {
   "codemirror_mode": {
    "name": "ipython",
    "version": 3
   },
   "file_extension": ".py",
   "mimetype": "text/x-python",
   "name": "python",
   "nbconvert_exporter": "python",
   "pygments_lexer": "ipython3",
   "version": "3.10.12"
  }
 },
 "nbformat": 4,
 "nbformat_minor": 5
}
